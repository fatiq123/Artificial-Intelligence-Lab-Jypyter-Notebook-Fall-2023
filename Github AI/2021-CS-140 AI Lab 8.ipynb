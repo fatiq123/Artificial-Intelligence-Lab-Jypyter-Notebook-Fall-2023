{
 "cells": [
  {
   "cell_type": "code",
   "execution_count": 3,
   "id": "bf3c5c49",
   "metadata": {},
   "outputs": [],
   "source": [
    "import random\n",
    "\n",
    "class TicTacToe_Board:\n",
    "    def __init__(self):\n",
    "        self.board = [['-', '-', '-'],\n",
    "                       ['-', '-', '-'],\n",
    "                       ['-', '-', '-']]\n",
    "\n",
    "    def is_empty(self, x, y):\n",
    "        return self.board[x][y] == '-'\n",
    "\n",
    "    def make_move(self, player, x, y):\n",
    "        self.board[x][y] = player\n",
    "\n",
    "    def is_winner(self, player):\n",
    "        for i in range(3):\n",
    "            if self.board[i][0] == self.board[i][1] == self.board[i][2] == player:\n",
    "                return True\n",
    "            if self.board[0][i] == self.board[1][i] == self.board[2][i] == player:\n",
    "                return True\n",
    "        if self.board[0][0] == self.board[1][1] == self.board[2][2] == player:\n",
    "            return True\n",
    "        if self.board[0][2] == self.board[1][1] == self.board[2][0] == player:\n",
    "            return True\n",
    "        return False\n",
    "\n",
    "    def is_tie(self):\n",
    "        for i in range(3):\n",
    "            for j in range(3):\n",
    "                if self.board[i][j] == '-':\n",
    "                    return False\n",
    "        return True\n",
    "\n",
    "class TicTacToe_Agent:\n",
    "    def __init__(self, player):\n",
    "        self.player = player\n",
    "\n",
    "    def choose_move(self, board):\n",
    "        for i in range(3):\n",
    "            for j in range(3):\n",
    "                if board.is_empty(i, j):\n",
    "                    # Make a move and simulate the game\n",
    "                    board.make_move(self.player, i, j)\n"
   ]
  },
  {
   "cell_type": "code",
   "execution_count": null,
   "id": "09afb708",
   "metadata": {},
   "outputs": [],
   "source": [
    "\n",
    "   \n"
   ]
  },
  {
   "cell_type": "code",
   "execution_count": null,
   "id": "7dc9df13",
   "metadata": {},
   "outputs": [],
   "source": []
  }
 ],
 "metadata": {
  "kernelspec": {
   "display_name": "Python 3 (ipykernel)",
   "language": "python",
   "name": "python3"
  },
  "language_info": {
   "codemirror_mode": {
    "name": "ipython",
    "version": 3
   },
   "file_extension": ".py",
   "mimetype": "text/x-python",
   "name": "python",
   "nbconvert_exporter": "python",
   "pygments_lexer": "ipython3",
   "version": "3.10.9"
  }
 },
 "nbformat": 4,
 "nbformat_minor": 5
}
