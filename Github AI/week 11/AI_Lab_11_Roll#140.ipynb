{
 "cells": [
  {
   "cell_type": "markdown",
   "metadata": {
    "id": "aBLKY05SRD3F"
   },
   "source": [
    "# <center>AI Lab 11</center> \n",
    "## <center>Roll Number: 2021-CS-140</center> \n",
    "**Total marks**: 50 "
   ]
  },
  {
   "cell_type": "markdown",
   "metadata": {
    "id": "3OKJHB5ib0ew"
   },
   "source": [
    "Read the last two lines of any text file"
   ]
  },
  {
   "cell_type": "code",
   "execution_count": 7,
   "metadata": {
    "id": "Y2QYyhcUeG-v"
   },
   "outputs": [
    {
     "name": "stdout",
     "output_type": "stream",
     "text": [
      "Last two lines:\n",
      "My name is\n",
      "Fatiq Hussnain\n"
     ]
    }
   ],
   "source": [
    "# add code here\n",
    "def read_last_two_lines(file_path):\n",
    "    try:\n",
    "        with open(file_path, 'r') as file:\n",
    "            lines = file.readlines()\n",
    "        if len(lines) >= 2:\n",
    "            print(\"Last two lines:\")\n",
    "            print(lines[-2].strip())\n",
    "            print(lines[-1].strip())\n",
    "        elif len(lines) == 1:\n",
    "            print(\"Only one line exist:\")\n",
    "            print(lines[-1].strip())\n",
    "        else:\n",
    "            print(\"Empty File.\")\n",
    "    except FileNotFoundError:\n",
    "        print(f\"File not found: {file_path}\")\n",
    "    except Exception as e:\n",
    "        print(f\"An error occurred: {e}\")\n",
    "\n",
    "read_last_two_lines('f.txt')"
   ]
  },
  {
   "cell_type": "markdown",
   "metadata": {
    "id": "CfU0ar9KeJDu"
   },
   "source": [
    "Create a dictionary of student **Ali** where the keys are courses and values are total and obtaining marks in each course. Save this dictionary in a text file and numpy file. "
   ]
  },
  {
   "cell_type": "code",
   "execution_count": 5,
   "metadata": {
    "id": "oC8xZXkFgAG8"
   },
   "outputs": [],
   "source": [
    "# add code here\n",
    "import numpy as np\n",
    "\n",
    "ali_courses = {\n",
    "    'Math': {'total_marks': 100, 'obtained_marks': 89},\n",
    "    'Physics': {'total_marks': 100, 'obtained_marks': 98},\n",
    "    'Computer Science': {'total_marks': 100, 'obtained_marks': 100},\n",
    "}\n",
    "\n",
    "# Save text file\n",
    "with open('ali_courses.txt', 'w') as file:\n",
    "    for course, marks in ali_courses.items():\n",
    "        file.write(f\"{course}: {marks['obtained_marks']} out of {marks['total_marks']}\\n\")\n",
    "\n",
    "# with open('ali_courses.txt', 'r') as file:\n",
    "#     print(file.read())\n",
    "\n",
    "# Save numpy file\n",
    "np.save('ali_courses.npy', ali_courses)\n",
    "# with open('ali_courses.npy', 'rb') as file:\n",
    "#     print(np.load(file, allow_pickle=True))"
   ]
  },
  {
   "cell_type": "markdown",
   "metadata": {
    "id": "e4Sdh4mGiHZT"
   },
   "source": [
    "Reproduce this bar graph. "
   ]
  },
  {
   "cell_type": "code",
   "execution_count": 8,
   "metadata": {
    "colab": {
     "base_uri": "https://localhost:8080/",
     "height": 402
    },
    "executionInfo": {
     "elapsed": 1160,
     "status": "ok",
     "timestamp": 1612352774541,
     "user": {
      "displayName": "ARBISH AKRAM",
      "photoUrl": "https://lh3.googleusercontent.com/a-/AOh14GibOMqRHuDtNm_9Xp51XmNXlffO1lnbt8KERz568Q=s64",
      "userId": "07144718352820072135"
     },
     "user_tz": -300
    },
    "id": "mqdzXPCpn55_",
    "outputId": "9bfb2d99-f73c-488a-91e7-aad364907ef5"
   },
   "outputs": [
    {
     "ename": "ModuleNotFoundError",
     "evalue": "No module named 'matplotlib'",
     "output_type": "error",
     "traceback": [
      "\u001b[1;31m---------------------------------------------------------------------------\u001b[0m",
      "\u001b[1;31mModuleNotFoundError\u001b[0m                       Traceback (most recent call last)",
      "Cell \u001b[1;32mIn[8], line 1\u001b[0m\n\u001b[1;32m----> 1\u001b[0m \u001b[38;5;28;01mimport\u001b[39;00m \u001b[38;5;21;01mmatplotlib\u001b[39;00m\u001b[38;5;21;01m.\u001b[39;00m\u001b[38;5;21;01mpyplot\u001b[39;00m \u001b[38;5;28;01mas\u001b[39;00m \u001b[38;5;21;01mplt\u001b[39;00m\n\u001b[0;32m      3\u001b[0m courses \u001b[38;5;241m=\u001b[39m [\u001b[38;5;124m'\u001b[39m\u001b[38;5;124mPF\u001b[39m\u001b[38;5;124m'\u001b[39m, \u001b[38;5;124m'\u001b[39m\u001b[38;5;124mDL\u001b[39m\u001b[38;5;124m'\u001b[39m, \u001b[38;5;124m'\u001b[39m\u001b[38;5;124mCV\u001b[39m\u001b[38;5;124m'\u001b[39m]\n\u001b[0;32m      4\u001b[0m y_pos \u001b[38;5;241m=\u001b[39m [\u001b[38;5;241m2\u001b[39m, \u001b[38;5;241m0\u001b[39m, \u001b[38;5;241m1\u001b[39m]\n",
      "\u001b[1;31mModuleNotFoundError\u001b[0m: No module named 'matplotlib'"
     ]
    }
   ],
   "source": [
    "import matplotlib.pyplot as plt\n",
    "\n",
    "courses = ['PF', 'DL', 'CV']\n",
    "y_pos = [2, 0, 1]\n",
    "scores = [70, 60, 40]\n",
    "\n",
    "# add code here\n",
    "plt.bar(y_pos, scores, align='center', alpha=0.7)\n",
    "plt.xticks(y_pos, courses)\n",
    "plt.ylabel('Scores')\n",
    "plt.title('Scores in Different Courses')\n",
    "\n",
    "plt.show()"
   ]
  },
  {
   "cell_type": "markdown",
   "metadata": {
    "id": "GqgCmRxSgZPU"
   },
   "source": [
    "Reproduce this figure.  **(4 marks)**"
   ]
  },
  {
   "cell_type": "code",
   "execution_count": 9,
   "metadata": {
    "colab": {
     "base_uri": "https://localhost:8080/",
     "height": 295
    },
    "executionInfo": {
     "elapsed": 1405,
     "status": "ok",
     "timestamp": 1612352894383,
     "user": {
      "displayName": "ARBISH AKRAM",
      "photoUrl": "https://lh3.googleusercontent.com/a-/AOh14GibOMqRHuDtNm_9Xp51XmNXlffO1lnbt8KERz568Q=s64",
      "userId": "07144718352820072135"
     },
     "user_tz": -300
    },
    "id": "QG7VkeGzrKZo",
    "outputId": "b1fc05b4-f9ff-4679-be82-5df99004e0a1"
   },
   "outputs": [
    {
     "ename": "ModuleNotFoundError",
     "evalue": "No module named 'matplotlib'",
     "output_type": "error",
     "traceback": [
      "\u001b[1;31m---------------------------------------------------------------------------\u001b[0m",
      "\u001b[1;31mModuleNotFoundError\u001b[0m                       Traceback (most recent call last)",
      "Cell \u001b[1;32mIn[9], line 2\u001b[0m\n\u001b[0;32m      1\u001b[0m \u001b[38;5;28;01mimport\u001b[39;00m \u001b[38;5;21;01mnumpy\u001b[39;00m \u001b[38;5;28;01mas\u001b[39;00m \u001b[38;5;21;01mnp\u001b[39;00m\n\u001b[1;32m----> 2\u001b[0m \u001b[38;5;28;01mimport\u001b[39;00m \u001b[38;5;21;01mmatplotlib\u001b[39;00m\u001b[38;5;21;01m.\u001b[39;00m\u001b[38;5;21;01mpyplot\u001b[39;00m \u001b[38;5;28;01mas\u001b[39;00m \u001b[38;5;21;01mplt\u001b[39;00m\n\u001b[0;32m      4\u001b[0m x \u001b[38;5;241m=\u001b[39m np\u001b[38;5;241m.\u001b[39marange(\u001b[38;5;241m0\u001b[39m,\u001b[38;5;241m4\u001b[39m\u001b[38;5;241m*\u001b[39mnp\u001b[38;5;241m.\u001b[39mpi\u001b[38;5;241m-\u001b[39m\u001b[38;5;241m1\u001b[39m,\u001b[38;5;241m0.1\u001b[39m)  \n\u001b[0;32m      5\u001b[0m sin_curve \u001b[38;5;241m=\u001b[39m np\u001b[38;5;241m.\u001b[39msin(x)\n",
      "\u001b[1;31mModuleNotFoundError\u001b[0m: No module named 'matplotlib'"
     ]
    }
   ],
   "source": [
    "import numpy as np\n",
    "import matplotlib.pyplot as plt\n",
    "\n",
    "x = np.arange(0,4*np.pi-1,0.1)  \n",
    "sin_curve = np.sin(x)\n",
    "cos_curve = np.cos(x)\n",
    "\n",
    "\n",
    "# add code here\n",
    "\n",
    "# Plotting the sine and cosine curves\n",
    "plt.plot(x, sin_curve, label='sin(x)')\n",
    "plt.plot(x, cos_curve, label='cos(x)')\n",
    "\n",
    "# Adding labels and title\n",
    "plt.xlabel('x')\n",
    "plt.ylabel('y')\n",
    "plt.title('Sine and Cosine Curves')\n",
    "\n",
    "# Adding legend\n",
    "plt.legend()\n",
    "\n",
    "# Display the plot\n",
    "plt.show()"
   ]
  },
  {
   "cell_type": "markdown",
   "metadata": {
    "id": "okHAm_isvOSO"
   },
   "source": [
    "Reproduce this figure.  "
   ]
  },
  {
   "cell_type": "code",
   "execution_count": null,
   "metadata": {
    "colab": {
     "base_uri": "https://localhost:8080/",
     "height": 282
    },
    "executionInfo": {
     "elapsed": 964,
     "status": "ok",
     "timestamp": 1612352129677,
     "user": {
      "displayName": "ARBISH AKRAM",
      "photoUrl": "https://lh3.googleusercontent.com/a-/AOh14GibOMqRHuDtNm_9Xp51XmNXlffO1lnbt8KERz568Q=s64",
      "userId": "07144718352820072135"
     },
     "user_tz": -300
    },
    "id": "zYUy7fJerNJv",
    "outputId": "6dce59ae-bc3d-4e2e-bc1f-c1a9e7226e07"
   },
   "outputs": [
    {
     "data": {
      "image/png": "[encoded data removed]",
      "text/plain": [
       "<Figure size 640x480 with 1 Axes>"
      ]
     },
     "metadata": {},
     "output_type": "display_data"
    }
   ],
   "source": [
    "# from numpy.polynomial.polynomial import polyfit\n",
    "# noise = np.random.uniform(-20, 20, 100)\n",
    "# x = np.linspace(0, 100, 100)+noise\n",
    "# y = np.linspace(0, 50, 100)+noise\n",
    "\n",
    "# plt.scatter( # add code here)\n",
    "# b, m = polyfit(x, y, 1)\n",
    "# y_pred = m*x+b\n",
    "# plt.plot(# add code here)\n",
    "    \n",
    "\n",
    "\n",
    "import numpy as np\n",
    "import matplotlib.pyplot as plt\n",
    "\n",
    "from numpy.polynomial.polynomial import polyfit\n",
    "\n",
    "# Generate noisy data\n",
    "noise = np.random.uniform(-20, 20, 100)\n",
    "x = np.linspace(0, 100, 100)+noise\n",
    "y = np.linspace(0, 50, 100)+noise\n",
    "\n",
    "# Plot the scattered data\n",
    "plt.scatter(x, y, color='blue')\n",
    "\n",
    "# Calculate the linear regression coefficients\n",
    "b, m = polyfit(x, y, 1)\n",
    "\n",
    "# Plot the predicted line\n",
    "y_pred = m*x+b\n",
    "plt.plot(x, y_pred, color='green')\n",
    "\n",
    "# Show the plot\n",
    "plt.show()"
   ]
  },
  {
   "cell_type": "markdown",
   "metadata": {},
   "source": [
    "Download iris flower dataset from kaggle (https://www.kaggle.com/datasets/arshid/iris-flower-dataset) and read it in python dataframe"
   ]
  },
  {
   "cell_type": "code",
   "execution_count": null,
   "metadata": {},
   "outputs": [
    {
     "name": "stdout",
     "output_type": "stream",
     "text": [
      "   sepal_length  sepal_width  petal_length  petal_width      species\n",
      "0           5.1          3.5           1.4          0.2  Iris-setosa\n",
      "1           4.9          3.0           1.4          0.2  Iris-setosa\n",
      "2           4.7          3.2           1.3          0.2  Iris-setosa\n",
      "3           4.6          3.1           1.5          0.2  Iris-setosa\n",
      "4           5.0          3.6           1.4          0.2  Iris-setosa\n"
     ]
    }
   ],
   "source": [
    "import pandas as pd\n",
    "\n",
    "#Add code here\n",
    "\n",
    "# Read the dataset into a DataFrame\n",
    "df = pd.read_csv('./IRIS.csv')\n",
    "\n",
    "# Display the first few rows of the DataFrame\n",
    "print(df.head())"
   ]
  },
  {
   "cell_type": "markdown",
   "metadata": {},
   "source": [
    "Do all the preprocessing on the dataset and visulize the data step by step"
   ]
  },
  {
   "cell_type": "code",
   "execution_count": null,
   "metadata": {},
   "outputs": [
    {
     "data": {
      "text/plain": [
       "Text(0.5, 1.0, 'Iris Datast')"
      ]
     },
     "execution_count": 3,
     "metadata": {},
     "output_type": "execute_result"
    },
    {
     "data": {
      "image/png": "[encoded data removed]",
      "text/plain": [
       "<Figure size 1500x700 with 1 Axes>"
      ]
     },
     "metadata": {},
     "output_type": "display_data"
    }
   ],
   "source": [
    "import matplotlib.pyplot as plt\n",
    "import pandas as pd\n",
    "\n",
    "ir = pd.read_csv('./IRIS.csv')\n",
    "\n",
    "fig, axes = plt.subplots(figsize=(15,7))\n",
    "axes.scatter(ir['sepal_length'], ir['sepal_width'])\n",
    "axes.set_xlabel('sepal_length') \n",
    "axes.set_ylabel('sepal_width') \n",
    "axes.set_title(\"Iris Datast\")"
   ]
  }
 ],
 "metadata": {
  "colab": {
   "collapsed_sections": [],
   "name": "CS568:DeepLearning-Test2-PHDCSF20XXX-NAME.ipynb",
   "provenance": []
  },
  "kernelspec": {
   "display_name": "Python 3 (ipykernel)",
   "language": "python",
   "name": "python3"
  },
  "language_info": {
   "codemirror_mode": {
    "name": "ipython",
    "version": 3
   },
   "file_extension": ".py",
   "mimetype": "text/x-python",
   "name": "python",
   "nbconvert_exporter": "python",
   "pygments_lexer": "ipython3",
   "version": "3.12.0"
  }
 },
 "nbformat": 4,
 "nbformat_minor": 1
}
