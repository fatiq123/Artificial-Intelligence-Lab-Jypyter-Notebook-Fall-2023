{
 "cells": [
  {
   "cell_type": "markdown",
   "metadata": {
    "id": "99uzECDycBC9"
   },
   "source": [
    "## <center>Artificial Intelligence Lab</center>  <center>Fall 2023</center>\n",
    "## Lab 01\n",
    "#### Name: Fatiq Hussnain\n",
    "#### Roll number: 2021-cs-140\n",
    "Email to: tazeem.haider@uet.edu.pk\n"
   ]
  },
  {
   "cell_type": "markdown",
   "metadata": {
    "id": "oGeXcV1ieX5k"
   },
   "source": [
    "Take weight in kgs and convert it into pounds. 1 pound = 1 kg 2.2046 **(2 marks)**"
   ]
  },
  {
   "cell_type": "code",
   "execution_count": 1,
   "metadata": {
    "id": "kLLZInc9eZX9"
   },
   "outputs": [],
   "source": [
    "## add code here\n",
    "# Input weight in kilograms\n",
    "weight_in_kg = float(input(\"Enter weight in kilograms: \"))\n",
    "\n",
    "# Convert kilograms to pounds\n",
    "weight_in_lb = weight_in_kg * 2.2046\n",
    "\n",
    "# Display the result\n",
    "print(f\"{weight_in_kg} kilograms is equal to {weight_in_lb} pounds\")\n",
    "\n"
   ]
  },
  {
   "cell_type": "markdown",
   "metadata": {
    "id": "xLXJt74qebph"
   },
   "source": [
    "Calculate the cost of all the items in a shopping cart. **(2 marks)**"
   ]
  },
  {
   "cell_type": "code",
   "execution_count": 12,
   "metadata": {
    "id": "Pd59WwdpehIW"
   },
   "outputs": [],
   "source": [
    "prices =[20,50,80,10,56,89]\n",
    "\n",
    "## add code here\n",
    "\n",
    "total_cost = sum(prices)\n",
    "print(total_cost)"
   ]
  },
  {
   "cell_type": "markdown",
   "metadata": {
    "id": "EGq2J0jeeqF_"
   },
   "source": [
    "Write a function that returns the maximum of two numbers. **(2 marks)**"
   ]
  },
  {
   "cell_type": "code",
   "execution_count": 3,
   "metadata": {
    "id": "joOHP51beunx"
   },
   "outputs": [],
   "source": [
    "## add code here\n",
    "\n",
    "def max_of_two_nums(a,b):\n",
    "    if a > b:\n",
    "        return a\n",
    "    else:\n",
    "        return b\n"
   ]
  },
  {
   "cell_type": "markdown",
   "metadata": {
    "id": "B8cHTHEYe1em"
   },
   "source": [
    "Write a function called **deepmind** that takes a number  **(4 marks)**\n",
    "* If the number is divisible by 3, it should return deep.\n",
    "* If it is divisible by 5, it should return mind.\n",
    "* If it is divisible by both 3 and 5, it should return deepmind.\n",
    "* Otherwise, it should return the same number.\n",
    "\n",
    "\n"
   ]
  },
  {
   "cell_type": "code",
   "execution_count": 10,
   "metadata": {
    "id": "k7r-_lhqfAtQ"
   },
   "outputs": [],
   "source": [
    "## add code here\n",
    "\n",
    "def deepmind(num):\n",
    "    if(num%3==0):\n",
    "        return \"deep\"\n",
    "    elif(num%5==0):\n",
    "        return \"mind\"\n",
    "    elif(num%3==0 and num%5==0):\n",
    "        return \"deepmind\"\n",
    "    else:\n",
    "        return num\n",
    "    \n",
    "    "
   ]
  },
  {
   "cell_type": "markdown",
   "metadata": {
    "id": "rY5K6INzcGDS"
   },
   "source": [
    "**listA** =  [1,2,3,4,5,6,7,8,9,10]  \n",
    "\n",
    "If an element of **listA** is smaller than 5, replace it with 0. And if an element of x is bigger than 5, replace it with 1. (**2 marks**)"
   ]
  },
  {
   "cell_type": "code",
   "execution_count": 14,
   "metadata": {
    "id": "qEAtvmNycFsQ"
   },
   "outputs": [
    {
     "ename": "NameError",
     "evalue": "name 'listA' is not defined",
     "output_type": "error",
     "traceback": [
      "\u001b[1;31m---------------------------------------------------------------------------\u001b[0m",
      "\u001b[1;31mNameError\u001b[0m                                 Traceback (most recent call last)",
      "Cell \u001b[1;32mIn[14], line 3\u001b[0m\n\u001b[0;32m      1\u001b[0m \u001b[38;5;66;03m## add code here\u001b[39;00m\n\u001b[1;32m----> 3\u001b[0m new_listA \u001b[38;5;241m=\u001b[39m [\u001b[38;5;241m0\u001b[39m \u001b[38;5;28;01mif\u001b[39;00m x \u001b[38;5;241m<\u001b[39m \u001b[38;5;241m5\u001b[39m \u001b[38;5;28;01melse\u001b[39;00m \u001b[38;5;241m1\u001b[39m \u001b[38;5;28;01mfor\u001b[39;00m x \u001b[38;5;129;01min\u001b[39;00m \u001b[43mlistA\u001b[49m]\n\u001b[0;32m      4\u001b[0m \u001b[38;5;28mprint\u001b[39m(new_listA)\n",
      "\u001b[1;31mNameError\u001b[0m: name 'listA' is not defined"
     ]
    }
   ],
   "source": [
    "## add code here\n",
    "\n",
    "new_listA = [0 if x < 5 else 1 for x in listA]\n",
    "print(new_listA)"
   ]
  },
  {
   "cell_type": "markdown",
   "metadata": {
    "id": "m5tWGbKxcIug"
   },
   "source": [
    "Compute the square of **listA** elements in one line. (**2 marks**)\n"
   ]
  },
  {
   "cell_type": "code",
   "execution_count": 6,
   "metadata": {
    "id": "ajneZNrXcL0A"
   },
   "outputs": [],
   "source": [
    "listA = [1,2,3,4,5,6,7,8,9,10]\n",
    "## add code here\n",
    "\n",
    "square_list = [x**2 for x in listA]\n",
    "print(square_list)\n"
   ]
  },
  {
   "cell_type": "markdown",
   "metadata": {
    "id": "vPO_Yx8BcL-Q"
   },
   "source": [
    "Concatenate b1 and b2. (**2 marks**)"
   ]
  },
  {
   "cell_type": "code",
   "execution_count": 2,
   "metadata": {
    "id": "BREFhCCbcPGw"
   },
   "outputs": [
    {
     "name": "stdout",
     "output_type": "stream",
     "text": [
      "['Hello', 'in', 'first', 'Students', 'the', 'recitation']\n"
     ]
    }
   ],
   "source": [
    "b1 = ['Hello', 'in','first']\n",
    "b2 = ['Students','the','recitation']\n",
    "## add code here\n",
    "\n",
    "sum = b1+b2\n",
    "print(sum)"
   ]
  },
  {
   "cell_type": "markdown",
   "metadata": {
    "id": "ri-m2ia5chLO"
   },
   "source": [
    "Create a dictionary of student **Ali** where the keys are courses and values are total and obtaining marks in each course. Print the dictionary items subjects wise **(2 marks)**"
   ]
  },
  {
   "cell_type": "code",
   "execution_count": 15,
   "metadata": {
    "id": "m8FMBIGbchwa"
   },
   "outputs": [
    {
     "name": "stdout",
     "output_type": "stream",
     "text": [
      "Subject: AI\n",
      "Total Marks: 100\n",
      "Obtained Marks: 95\n",
      "Subject: Computer Networks\n",
      "Total Marks: 100\n",
      "Obtained Marks: 90\n",
      "Subject: MAD\n",
      "Total Marks: 100\n",
      "Obtained Marks: 90\n",
      "Subject: PPSD\n",
      "Total Marks: 100\n",
      "Obtained Marks: 98\n"
     ]
    }
   ],
   "source": [
    "## add code here\n",
    "\n",
    "ali = {\n",
    "    \"AI\": {\"Total Marks\": 100, \"Obtained Marks\": 95},\n",
    "    \"Computer Networks\": {\"Total Marks\": 100, \"Obtained Marks\": 90},\n",
    "    \"MAD\": {\"Total Marks\": 100, \"Obtained Marks\": 90},\n",
    "    \"PPSD\": {\"Total Marks\": 100, \"Obtained Marks\": 98},\n",
    "}\n",
    "\n",
    "for subject, marks_info in ali.items():\n",
    "    print(f\"Subject: {subject}\")\n",
    "    print(f\"Total Marks: {marks_info['Total Marks']}\")\n",
    "    print(f\"Obtained Marks: {marks_info['Obtained Marks']}\")\n"
   ]
  },
  {
   "cell_type": "markdown",
   "metadata": {
    "id": "ZylTcdsIclSP"
   },
   "source": [
    "Create a class 'calculator' with the following functions to compute i) addition, ii) subtraction, iii)multiplication, iv)division and v)square\n",
    "between two numbers. **(2 marks)**"
   ]
  },
  {
   "cell_type": "code",
   "execution_count": 9,
   "metadata": {
    "id": "SX_v-PbuclrV"
   },
   "outputs": [],
   "source": [
    "## add code here\n",
    "\n",
    "class calculator:\n",
    "    def addition(self,num1,num2):\n",
    "        return num1 + num2\n",
    "    def substraction(self,num1,num2):\n",
    "        return num1 - num2\n",
    "    def multiplication(self,num1,num2):\n",
    "        return num1 * num2\n",
    "    def division(self,num1,num2):\n",
    "        return num1 / num2\n",
    "    def square(self,num1,num2):\n",
    "        return num1 ** num2"
   ]
  }
 ],
 "metadata": {
  "colab": {
   "provenance": []
  },
  "kernelspec": {
   "display_name": "Python 3 (ipykernel)",
   "language": "python",
   "name": "python3"
  },
  "language_info": {
   "codemirror_mode": {
    "name": "ipython",
    "version": 3
   },
   "file_extension": ".py",
   "mimetype": "text/x-python",
   "name": "python",
   "nbconvert_exporter": "python",
   "pygments_lexer": "ipython3",
   "version": "3.10.9"
  }
 },
 "nbformat": 4,
 "nbformat_minor": 1
}
