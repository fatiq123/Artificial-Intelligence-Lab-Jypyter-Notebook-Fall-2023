{
 "cells": [
  {
   "cell_type": "code",
   "execution_count": 32,
   "id": "5c8d8e03",
   "metadata": {},
   "outputs": [
    {
     "name": "stdout",
     "output_type": "stream",
     "text": [
      "Enter the number: 10\n",
      "0\n",
      "1\n",
      "1\n",
      "2\n",
      "3\n",
      "5\n",
      "8\n",
      "13\n",
      "21\n",
      "34\n",
      "55\n"
     ]
    }
   ],
   "source": [
    "def fibonacci_series(n):\n",
    "    \n",
    "    series = [0] * (n + 1)\n",
    "    # Base cases\n",
    "    series[0] = 0\n",
    "    series[1] = 1\n",
    "\n",
    "    for i in range(2, n + 1): # we will start from 2 as 0 and 1 are base cases\n",
    "        series[i] = series[i - 1] + series[i - 2]\n",
    "\n",
    "    return series\n",
    "\n",
    "\n",
    "n = int(input(\"Enter the number: \"))\n",
    "\n",
    "if n <= 0:\n",
    "    print(\"Please enter a positive integer.\")\n",
    "else:\n",
    "    result = fibonacci_series(n)\n",
    "    for num in result:\n",
    "        print(num)\n",
    "\n",
    "\n",
    "        "
   ]
  },
  {
   "cell_type": "code",
   "execution_count": 17,
   "id": "cdfd492f",
   "metadata": {},
   "outputs": [
    {
     "name": "stdout",
     "output_type": "stream",
     "text": [
      "Enter string 1: abc\n",
      "Enter string 2: bca\n",
      "Length of longest common subsequence: 2\n"
     ]
    }
   ],
   "source": [
    "# def longest_subsequence(s1, s2):\n",
    "    \n",
    "#     length_of_s1 = len(s1)\n",
    "#     length_of_s2 = len(s2)\n",
    "\n",
    "#     matrix = [[0] * (length_of_s2 + 1) for _ in range(length_of_s1 + 1)]\n",
    "\n",
    "#     for i in range(1, length_of_s1 + 1):\n",
    "#         for j in range(1, length_of_s2 + 1):\n",
    "#             if s1[i - 1] == s2[j - 1]:\n",
    "#                 matrix[i][j] = 1 + matrix[i - 1][j - 1]\n",
    "#             else:\n",
    "#                 matrix[i][j] = max(matrix[i - 1][j], matrix[i][j - 1])\n",
    "\n",
    "#     return matrix[length_of_s1][length_of_s2]\n",
    "\n",
    "# s1 = input(\"Enter string 1: \")\n",
    "# s2 = input(\"Enter string 2: \")\n",
    "\n",
    "# if not s1 or not s2:\n",
    "#     print(\"Input strings cannot be empty.\")\n",
    "# else:\n",
    "#     length = longest_subsequence(s1, s2)\n",
    "#     print(f\"Length of longest common subsequence: {length}\")\n",
    "    \n",
    "    \n",
    "    \n",
    "    \n",
    "# this solution is using iteration method\n",
    "\n"
   ]
  },
  {
   "cell_type": "code",
   "execution_count": 28,
   "id": "eebdb4d7",
   "metadata": {},
   "outputs": [
    {
     "name": "stdout",
     "output_type": "stream",
     "text": [
      "Enter denominations: 123456\n",
      "Enter the target amount: 5\n",
      "1\n"
     ]
    }
   ],
   "source": [
    "def minimun_required_coins(coins, target):\n",
    "\n",
    "    matrix = [float('inf')] * (target + 1) # inf is for largest numerical value\n",
    "    # base case: Zero coins are needed\n",
    "    matrix[0] = 0\n",
    "    \n",
    "    for amount in range(1, target + 1):\n",
    "        for coin in coins:\n",
    "            if amount >= coin:\n",
    "                # Update the minimum number of coins needed for the current amount\n",
    "                matrix[amount] = min(matrix[amount], matrix[amount - coin] + 1)\n",
    "    \n",
    "    return matrix[target]\n",
    "\n",
    "denominations = input(\"Enter denominations: \")\n",
    "denominations = [int(coin) for coin in denominations] # to convert numbers to integers and store in denominations\n",
    "target_amount = int(input(\"Enter the target amount: \"))\n",
    "\n",
    "result = minimun_required_coins(denominations, target_amount)\n",
    "print(result)\n",
    "\n"
   ]
  },
  {
   "cell_type": "code",
   "execution_count": 30,
   "id": "d1f679db",
   "metadata": {},
   "outputs": [
    {
     "name": "stdout",
     "output_type": "stream",
     "text": [
      "Enter the first string: abcdef\n",
      "Enter the second string: abc\n",
      "3\n"
     ]
    }
   ],
   "source": [
    "def longest_substring(s1, s2):\n",
    "    length_of_s1 = len(s1)\n",
    "    length_of_s2 = len(s2)\n",
    "\n",
    "    # making a 2d matrix\n",
    "    matrix = [[0] * (length_of_s2 + 1) for i in range(length_of_s1 + 1)]\n",
    "\n",
    "    maximum_length = 0\n",
    "\n",
    "    for i in range(1, length_of_s1 + 1):\n",
    "        for j in range(1, length_of_s2 + 1):\n",
    "            \n",
    "            if s1[i - 1] == s2[j - 1]: # case if last character of two strings match then it will decrement by one\n",
    "                matrix[i][j] = matrix[i - 1][j - 1] + 1\n",
    "                maximum_length = max(maximum_length, matrix[i][j])\n",
    "                \n",
    "    return maximum_length #return the maximum length\n",
    "\n",
    "s1 = input(\"Enter the first string: \")\n",
    "s2 = input(\"Enter the second string: \")\n",
    "\n",
    "result = longest_substring(s1, s2)\n",
    "print(result)\n",
    "\n",
    "     \n",
    "\n"
   ]
  },
  {
   "cell_type": "code",
   "execution_count": null,
   "id": "24b9f0d0",
   "metadata": {},
   "outputs": [],
   "source": []
  }
 ],
 "metadata": {
  "kernelspec": {
   "display_name": "Python 3 (ipykernel)",
   "language": "python",
   "name": "python3"
  },
  "language_info": {
   "codemirror_mode": {
    "name": "ipython",
    "version": 3
   },
   "file_extension": ".py",
   "mimetype": "text/x-python",
   "name": "python",
   "nbconvert_exporter": "python",
   "pygments_lexer": "ipython3",
   "version": "3.10.9"
  }
 },
 "nbformat": 4,
 "nbformat_minor": 5
}
