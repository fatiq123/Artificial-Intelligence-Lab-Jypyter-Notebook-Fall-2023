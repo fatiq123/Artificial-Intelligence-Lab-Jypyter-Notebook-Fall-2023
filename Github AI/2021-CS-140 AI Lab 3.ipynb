{
 "cells": [
  {
   "cell_type": "code",
   "execution_count": 11,
   "id": "81162cc5",
   "metadata": {},
   "outputs": [
    {
     "name": "stdout",
     "output_type": "stream",
     "text": [
      "Enter the first string (only alphabetic characters allowed): 1\n",
      "Enter the second string (only alphabetic characters allowed): 1\n",
      "Invalid input. Please enter valid non-empty strings containing only alphabetic characters.\n",
      "Enter the first string (only alphabetic characters allowed): abc\n",
      "Enter the second string (only alphabetic characters allowed): bca\n",
      "2\n"
     ]
    }
   ],
   "source": [
    "def calculate_edit_distance(a, b):\n",
    "    length_of_a = len(a) # returns length of string a \n",
    "    length_of_b = len(b) # returns length of string b\n",
    "\n",
    "#     initializing the 2d matrix\n",
    "    matrix = [[0] * (length_of_b + 1) for i in range(length_of_a + 1)]  # it will initially initialize all rows and columns with 0\n",
    "\n",
    "#     these two for loops are used to initialize the 2d matrix with 0 elements\n",
    "    for i in range(length_of_a + 1):\n",
    "        matrix[i][0] = i\n",
    "    for j in range(length_of_b + 1):\n",
    "        matrix[0][j] = j\n",
    "\n",
    "#   Filling the matrix\n",
    "    for i in range(1, length_of_a + 1):\n",
    "        for j in range(1, length_of_b + 1):\n",
    "            cost = 0 if a[i - 1] == b[j - 1] else 1\n",
    "            matrix[i][j] = min(\n",
    "                matrix[i - 1][j] + 1,  # Deletion\n",
    "                matrix[i][j - 1] + 1,  # Insertion\n",
    "                matrix[i - 1][j - 1] + cost,  # Substitution\n",
    "            )\n",
    "\n",
    "    return matrix[length_of_a][length_of_b]\n",
    "\n",
    "while True:\n",
    "    input_str1 = input(\"Enter the first string (only alphabetic characters allowed): \")\n",
    "    input_str2 = input(\"Enter the second string (only alphabetic characters allowed): \")\n",
    "\n",
    "    if input_str1.isalpha() and input_str2.isalpha() and input_str1 != \"\" and input_str2 != \"\":\n",
    "        break\n",
    "    else:\n",
    "        print(\"Invalid input. Please enter valid non-empty strings containing only alphabetic characters.\")\n",
    "\n",
    "distance = edit_distance(input_str1, input_str2)\n",
    "print(distance)\n"
   ]
  },
  {
   "cell_type": "code",
   "execution_count": 17,
   "id": "814abde2",
   "metadata": {},
   "outputs": [
    {
     "name": "stdout",
     "output_type": "stream",
     "text": [
      "(a+b+c(d))\n"
     ]
    }
   ],
   "source": [
    "def check_balance_brackets(myStr):\n",
    "    open_list = [\"[\", \"{\", \"(\"]      # a list of open brackets\n",
    "    close_list = [\"]\", \"}\", \")\"]     # a list of close brackets\n",
    "    \n",
    "    stack = []    # a stack to store the open and close brackets\n",
    "    count = 0  # Count for open brackets\n",
    "    \n",
    "    for i in myStr:\n",
    "        if i in open_list:\n",
    "            stack.append(i)    # it will append the bracket in stack\n",
    "        elif i in close_list:\n",
    "            pos = close_list.index(i)   # it will store specific index of brackets in position variable \n",
    "            if ((len(stack) > 0) and\n",
    "                (open_list[pos] == stack[len(stack) - 1])):\n",
    "                stack.pop()       # if stack index is same as that of open_list then simple pop that bracket\n",
    "            else:\n",
    "                count += 1     # increment the count \n",
    "\n",
    "    # add necessary brackets to beginning and end of string to equalize\n",
    "    balanced_sequence = \"(\" * count + myStr + \")\" * len(stack)\n",
    "    \n",
    "    return balanced_sequence\n",
    "\n",
    "# # Get input from the user\n",
    "# input_sequence = input(\"Enter an unbalanced bracket sequence: \")       # un-comment these lines to get input from user\n",
    "# balanced_sequence = check_balance_brackets(input_sequence)             # I got my tab stuck when I give input as a bracket\n",
    "# print(\"Balanced sequence:\", balanced_sequence)\n",
    "\n",
    "input = \"(a+b+c(d\"\n",
    "balanced_sequence = check_balance_brackets(input)\n",
    "print(balanced_sequence)\n"
   ]
  },
  {
   "cell_type": "code",
   "execution_count": 16,
   "id": "8594b4cd",
   "metadata": {},
   "outputs": [
    {
     "name": "stdout",
     "output_type": "stream",
     "text": [
      "Aligned Sequence 1: ABB-TCDD\n",
      "Aligned Sequence 2: AFFGT-DC\n"
     ]
    }
   ],
   "source": [
    "def perform_sequence_alignment(seq1, seq2, match_score=1, mismatch_penalty=-1, gap_penalty=-1):\n",
    "    len_seq1 = len(seq1)\n",
    "    len_seq2 = len(seq2)\n",
    "\n",
    "    dp = [[0] * (len_seq2 + 1) for i in range(len_seq1 + 1)]\n",
    "\n",
    "\n",
    "    for i in range(1, len_seq1 + 1):\n",
    "        dp[i][0] = dp[i - 1][0] + gap_penalty\n",
    "    for j in range(1, len_seq2 + 1):\n",
    "        dp[0][j] = dp[0][j - 1] + gap_penalty\n",
    "\n",
    "    # Fill in the matrix\n",
    "    for i in range(1, len_seq1 + 1):\n",
    "        for j in range(1, len_seq2 + 1):\n",
    "            if seq1[i - 1] == seq2[j - 1]:\n",
    "                match = dp[i - 1][j - 1] + match_score\n",
    "            else:\n",
    "                match = dp[i - 1][j - 1] + mismatch_penalty\n",
    "\n",
    "            insert = dp[i][j - 1] + gap_penalty\n",
    "            delete = dp[i - 1][j] + gap_penalty\n",
    "\n",
    "            # Choose the maximum score among the three options\n",
    "            dp[i][j] = max(match, insert, delete)\n",
    "\n",
    "    # Backtrack to find the optimal alignment\n",
    "    alignment_seq1 = []\n",
    "    alignment_seq2 = []\n",
    "    i, j = len_seq1, len_seq2\n",
    "    while i > 0 or j > 0:\n",
    "        if i > 0 and dp[i][j] == dp[i - 1][j] + gap_penalty:\n",
    "            alignment_seq1.insert(0, seq1[i - 1])\n",
    "            alignment_seq2.insert(0, '-')\n",
    "            i -= 1\n",
    "        elif j > 0 and dp[i][j] == dp[i][j - 1] + gap_penalty:\n",
    "            alignment_seq1.insert(0, '-')\n",
    "            alignment_seq2.insert(0, seq2[j - 1])\n",
    "            j -= 1\n",
    "        else:\n",
    "            alignment_seq1.insert(0, seq1[i - 1])\n",
    "            alignment_seq2.insert(0, seq2[j - 1])\n",
    "            i -= 1\n",
    "            j -= 1\n",
    "\n",
    "    return ''.join(alignment_seq1), ''.join(alignment_seq2)\n",
    "\n",
    "\n",
    "seq1 = \"ABBTCDD\"\n",
    "seq2 = \"AFFGTDC\"\n",
    "aligned_seq1, aligned_seq2 = perform_sequence_alignment(seq1, seq2)\n",
    "print(\"Aligned Sequence 1:\", aligned_seq1)\n",
    "print(\"Aligned Sequence 2:\", aligned_seq2)\n",
    "\n",
    "\n",
    "     # in case if you want to get input from user\n",
    "    \n",
    "# seq1_input = input(\"Enter the first sequence: \")\n",
    "# seq2_input = input(\"Enter the second sequence: \")\n",
    "\n",
    "# aligned_seq1, aligned_seq2 = perform_sequence_alignment(seq1_input, seq2_input)\n",
    "# print(\"Aligned Sequence 1:\", aligned_seq1)\n",
    "# print(\"Aligned Sequence 2:\", aligned_seq2)\n",
    "\n"
   ]
  },
  {
   "cell_type": "code",
   "execution_count": null,
   "id": "0a37e0a5",
   "metadata": {},
   "outputs": [],
   "source": []
  }
 ],
 "metadata": {
  "kernelspec": {
   "display_name": "Python 3 (ipykernel)",
   "language": "python",
   "name": "python3"
  },
  "language_info": {
   "codemirror_mode": {
    "name": "ipython",
    "version": 3
   },
   "file_extension": ".py",
   "mimetype": "text/x-python",
   "name": "python",
   "nbconvert_exporter": "python",
   "pygments_lexer": "ipython3",
   "version": "3.10.9"
  }
 },
 "nbformat": 4,
 "nbformat_minor": 5
}
